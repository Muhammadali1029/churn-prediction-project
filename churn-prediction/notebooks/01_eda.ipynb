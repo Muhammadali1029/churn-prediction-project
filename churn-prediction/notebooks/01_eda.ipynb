{
 "cells": [
  {
   "cell_type": "markdown",
   "id": "924f713e",
   "metadata": {},
   "source": [
    "# Customer Churn EDA\n",
    "**Author**: Junior ML Engineer  \n",
    "**Date**: Today  \n",
    "**Purpose**: Initial data exploration for churn prediction model\n",
    "\n",
    "## Business Context\n",
    "Marketing needs to identify customers likely to churn within 30 days for retention campaigns.\n"
   ]
  },
  {
   "cell_type": "code",
   "execution_count": null,
   "id": "cee2ecc1",
   "metadata": {},
   "outputs": [],
   "source": [
    "# Industry practice: Consistent imports at the top\n",
    "import sys\n",
    "sys.path.append('..')\n",
    "\n",
    "import pandas as pd\n",
    "import numpy as np\n",
    "import matplotlib.pyplot as plt\n",
    "import seaborn as sns\n",
    "from pathlib import Path\n",
    "\n",
    "# Our project modules\n",
    "from src.config import RAW_DATA_PATH, RANDOM_SEED\n",
    "\n",
    "# Configuration\n",
    "pd.set_option('display.max_columns', None)\n",
    "sns.set_style(\"whitegrid\")\n",
    "plt.rcParams['figure.figsize'] = (12, 6)\n",
    "\n",
    "# Set random seed for reproducibility\n",
    "np.random.seed(RANDOM_SEED)\n"
   ]
  },
  {
   "cell_type": "markdown",
   "id": "f05dda5a",
   "metadata": {},
   "source": [
    "## 1. Data Loading and Initial Inspection"
   ]
  },
  {
   "cell_type": "code",
   "execution_count": null,
   "id": "0fe7ae7d",
   "metadata": {},
   "outputs": [],
   "source": [
    "# Load data with error handling\n",
    "data_path = RAW_DATA_PATH / \"WA_Fn-UseC_-Telco-Customer-Churn.csv\"\n",
    "\n",
    "try:\n",
    "    df = pd.read_csv(data_path)\n",
    "    print(f\"✓ Data loaded successfully: {df.shape[0]:,} rows, {df.shape[1]} columns\")\n",
    "except FileNotFoundError:\n",
    "    print(\"✗ Data file not found. Please run: python src/data_downloader.py\")\n",
    "    raise\n"
   ]
  }
 ],
 "metadata": {
  "kernelspec": {
   "display_name": "Python 3 (ipykernel)",
   "language": "python",
   "name": "python3"
  },
  "language_info": {
   "codemirror_mode": {
    "name": "ipython",
    "version": 3
   },
   "file_extension": ".py",
   "mimetype": "text/x-python",
   "name": "python",
   "nbconvert_exporter": "python",
   "pygments_lexer": "ipython3",
   "version": "3.10.14"
  }
 },
 "nbformat": 4,
 "nbformat_minor": 5
}
