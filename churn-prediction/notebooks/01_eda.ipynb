{
 "cells": [
  {
   "attachments": {},
   "cell_type": "markdown",
   "id": "924f713e",
   "metadata": {},
   "source": [
    "# Customer Churn EDA\n",
    "**Author**: Muhammad Ali Syed  \n",
    "**Date**: 02/08/2025\n",
    "**Purpose**: Initial data exploration for churn prediction model\n",
    "\n",
    "## Business Context\n",
    "Marketing needs to identify customers likely to churn within 30 days for retention campaigns.\n"
   ]
  },
  {
   "cell_type": "code",
   "execution_count": 60,
   "id": "cee2ecc1",
   "metadata": {},
   "outputs": [],
   "source": [
    "# Industry practice: Consistent imports at the top\n",
    "import sys\n",
    "sys.path.append('..')\n",
    "\n",
    "import pandas as pd\n",
    "import numpy as np\n",
    "import matplotlib.pyplot as plt\n",
    "import seaborn as sns\n",
    "from pathlib import Path\n",
    "\n",
    "# Our project modules\n",
    "from src.config import RAW_DATA_PATH, RANDOM_SEED\n",
    "\n",
    "# Configuration\n",
    "pd.set_option('display.max_columns', None)\n",
    "sns.set_style(\"whitegrid\")\n",
    "plt.rcParams['figure.figsize'] = (12, 6)\n",
    "\n",
    "# Set random seed for reproducibility\n",
    "np.random.seed(RANDOM_SEED)\n"
   ]
  },
  {
   "cell_type": "markdown",
   "id": "f05dda5a",
   "metadata": {},
   "source": [
    "## 1. Data Loading and Initial Inspection"
   ]
  },
  {
   "cell_type": "code",
   "execution_count": 61,
   "id": "0fe7ae7d",
   "metadata": {},
   "outputs": [
    {
     "name": "stdout",
     "output_type": "stream",
     "text": [
      "✓ Data loaded successfully: 7,043 rows, 21 columns\n"
     ]
    }
   ],
   "source": [
    "# Load data with error handling\n",
    "data_path = RAW_DATA_PATH / \"WA_Fn-UseC_-Telco-Customer-Churn.csv\"\n",
    "\n",
    "try:\n",
    "    df = pd.read_csv(data_path)\n",
    "    print(f\"✓ Data loaded successfully: {df.shape[0]:,} rows, {df.shape[1]} columns\")\n",
    "except FileNotFoundError:\n",
    "    print(\"✗ Data file not found. Please run: python src/data_downloader.py\")\n",
    "    raise\n"
   ]
  },
  {
   "attachments": {},
   "cell_type": "markdown",
   "id": "a051bddb",
   "metadata": {},
   "source": [
    "## Data Overview"
   ]
  },
  {
   "cell_type": "code",
   "execution_count": 62,
   "id": "825caea2",
   "metadata": {},
   "outputs": [
    {
     "name": "stdout",
     "output_type": "stream",
     "text": [
      "=== Data Overview ===\n",
      "Shape: (7043, 21)\n",
      "\n",
      "Column Types:\n",
      "object     18\n",
      "int64       2\n",
      "float64     1\n",
      "Name: count, dtype: int64\n",
      "\n",
      "Target:\n",
      "Churn\n",
      "No     5174\n",
      "Yes    1869\n",
      "Name: count, dtype: int64\n",
      "\n",
      "Target Distribution:\n",
      "Churn\n",
      "No     0.73463\n",
      "Yes    0.26537\n",
      "Name: proportion, dtype: float64\n"
     ]
    }
   ],
   "source": [
    "print(\"=== Data Overview ===\")\n",
    "print(f\"Shape: {df.shape}\")\n",
    "print(f\"\\nColumn Types:\\n{df.dtypes.value_counts()}\")\n",
    "print(f\"\\nTarget:\\n{df['Churn'].value_counts()}\")\n",
    "print(f\"\\nTarget Distribution:\\n{df['Churn'].value_counts(normalize=True)}\")"
   ]
  },
  {
   "attachments": {},
   "cell_type": "markdown",
   "id": "8d766c91",
   "metadata": {},
   "source": [
    "## Missing Values Analysis"
   ]
  },
  {
   "cell_type": "code",
   "execution_count": 63,
   "id": "6c9973f0",
   "metadata": {},
   "outputs": [
    {
     "name": "stdout",
     "output_type": "stream",
     "text": [
      "\n",
      "No missing values\n"
     ]
    }
   ],
   "source": [
    "missing = df.isnull().sum()\n",
    "if missing.sum() > 0:\n",
    "    print(\"\\nColumns with missing values: \")\n",
    "    print(missing[missing > 0])\n",
    "print(\"\\nNo missing values\")"
   ]
  },
  {
   "attachments": {},
   "cell_type": "markdown",
   "id": "4549f991",
   "metadata": {},
   "source": [
    "## Business-Relevant Questions"
   ]
  },
  {
   "cell_type": "code",
   "execution_count": 64,
   "id": "6165a514",
   "metadata": {},
   "outputs": [
    {
     "data": {
      "text/html": [
       "<div>\n",
       "<style scoped>\n",
       "    .dataframe tbody tr th:only-of-type {\n",
       "        vertical-align: middle;\n",
       "    }\n",
       "\n",
       "    .dataframe tbody tr th {\n",
       "        vertical-align: top;\n",
       "    }\n",
       "\n",
       "    .dataframe thead th {\n",
       "        text-align: right;\n",
       "    }\n",
       "</style>\n",
       "<table border=\"1\" class=\"dataframe\">\n",
       "  <thead>\n",
       "    <tr style=\"text-align: right;\">\n",
       "      <th></th>\n",
       "      <th>customerID</th>\n",
       "      <th>gender</th>\n",
       "      <th>SeniorCitizen</th>\n",
       "      <th>Partner</th>\n",
       "      <th>Dependents</th>\n",
       "      <th>tenure</th>\n",
       "      <th>PhoneService</th>\n",
       "      <th>MultipleLines</th>\n",
       "      <th>InternetService</th>\n",
       "      <th>OnlineSecurity</th>\n",
       "      <th>OnlineBackup</th>\n",
       "      <th>DeviceProtection</th>\n",
       "      <th>TechSupport</th>\n",
       "      <th>StreamingTV</th>\n",
       "      <th>StreamingMovies</th>\n",
       "      <th>Contract</th>\n",
       "      <th>PaperlessBilling</th>\n",
       "      <th>PaymentMethod</th>\n",
       "      <th>MonthlyCharges</th>\n",
       "      <th>TotalCharges</th>\n",
       "      <th>Churn</th>\n",
       "    </tr>\n",
       "  </thead>\n",
       "  <tbody>\n",
       "    <tr>\n",
       "      <th>0</th>\n",
       "      <td>7590-VHVEG</td>\n",
       "      <td>Female</td>\n",
       "      <td>0</td>\n",
       "      <td>Yes</td>\n",
       "      <td>No</td>\n",
       "      <td>1</td>\n",
       "      <td>No</td>\n",
       "      <td>No phone service</td>\n",
       "      <td>DSL</td>\n",
       "      <td>No</td>\n",
       "      <td>Yes</td>\n",
       "      <td>No</td>\n",
       "      <td>No</td>\n",
       "      <td>No</td>\n",
       "      <td>No</td>\n",
       "      <td>Month-to-month</td>\n",
       "      <td>Yes</td>\n",
       "      <td>Electronic check</td>\n",
       "      <td>29.85</td>\n",
       "      <td>29.85</td>\n",
       "      <td>No</td>\n",
       "    </tr>\n",
       "    <tr>\n",
       "      <th>1</th>\n",
       "      <td>5575-GNVDE</td>\n",
       "      <td>Male</td>\n",
       "      <td>0</td>\n",
       "      <td>No</td>\n",
       "      <td>No</td>\n",
       "      <td>34</td>\n",
       "      <td>Yes</td>\n",
       "      <td>No</td>\n",
       "      <td>DSL</td>\n",
       "      <td>Yes</td>\n",
       "      <td>No</td>\n",
       "      <td>Yes</td>\n",
       "      <td>No</td>\n",
       "      <td>No</td>\n",
       "      <td>No</td>\n",
       "      <td>One year</td>\n",
       "      <td>No</td>\n",
       "      <td>Mailed check</td>\n",
       "      <td>56.95</td>\n",
       "      <td>1889.5</td>\n",
       "      <td>No</td>\n",
       "    </tr>\n",
       "    <tr>\n",
       "      <th>2</th>\n",
       "      <td>3668-QPYBK</td>\n",
       "      <td>Male</td>\n",
       "      <td>0</td>\n",
       "      <td>No</td>\n",
       "      <td>No</td>\n",
       "      <td>2</td>\n",
       "      <td>Yes</td>\n",
       "      <td>No</td>\n",
       "      <td>DSL</td>\n",
       "      <td>Yes</td>\n",
       "      <td>Yes</td>\n",
       "      <td>No</td>\n",
       "      <td>No</td>\n",
       "      <td>No</td>\n",
       "      <td>No</td>\n",
       "      <td>Month-to-month</td>\n",
       "      <td>Yes</td>\n",
       "      <td>Mailed check</td>\n",
       "      <td>53.85</td>\n",
       "      <td>108.15</td>\n",
       "      <td>Yes</td>\n",
       "    </tr>\n",
       "    <tr>\n",
       "      <th>3</th>\n",
       "      <td>7795-CFOCW</td>\n",
       "      <td>Male</td>\n",
       "      <td>0</td>\n",
       "      <td>No</td>\n",
       "      <td>No</td>\n",
       "      <td>45</td>\n",
       "      <td>No</td>\n",
       "      <td>No phone service</td>\n",
       "      <td>DSL</td>\n",
       "      <td>Yes</td>\n",
       "      <td>No</td>\n",
       "      <td>Yes</td>\n",
       "      <td>Yes</td>\n",
       "      <td>No</td>\n",
       "      <td>No</td>\n",
       "      <td>One year</td>\n",
       "      <td>No</td>\n",
       "      <td>Bank transfer (automatic)</td>\n",
       "      <td>42.30</td>\n",
       "      <td>1840.75</td>\n",
       "      <td>No</td>\n",
       "    </tr>\n",
       "    <tr>\n",
       "      <th>4</th>\n",
       "      <td>9237-HQITU</td>\n",
       "      <td>Female</td>\n",
       "      <td>0</td>\n",
       "      <td>No</td>\n",
       "      <td>No</td>\n",
       "      <td>2</td>\n",
       "      <td>Yes</td>\n",
       "      <td>No</td>\n",
       "      <td>Fiber optic</td>\n",
       "      <td>No</td>\n",
       "      <td>No</td>\n",
       "      <td>No</td>\n",
       "      <td>No</td>\n",
       "      <td>No</td>\n",
       "      <td>No</td>\n",
       "      <td>Month-to-month</td>\n",
       "      <td>Yes</td>\n",
       "      <td>Electronic check</td>\n",
       "      <td>70.70</td>\n",
       "      <td>151.65</td>\n",
       "      <td>Yes</td>\n",
       "    </tr>\n",
       "  </tbody>\n",
       "</table>\n",
       "</div>"
      ],
      "text/plain": [
       "   customerID  gender  SeniorCitizen Partner Dependents  tenure PhoneService  \\\n",
       "0  7590-VHVEG  Female              0     Yes         No       1           No   \n",
       "1  5575-GNVDE    Male              0      No         No      34          Yes   \n",
       "2  3668-QPYBK    Male              0      No         No       2          Yes   \n",
       "3  7795-CFOCW    Male              0      No         No      45           No   \n",
       "4  9237-HQITU  Female              0      No         No       2          Yes   \n",
       "\n",
       "      MultipleLines InternetService OnlineSecurity OnlineBackup  \\\n",
       "0  No phone service             DSL             No          Yes   \n",
       "1                No             DSL            Yes           No   \n",
       "2                No             DSL            Yes          Yes   \n",
       "3  No phone service             DSL            Yes           No   \n",
       "4                No     Fiber optic             No           No   \n",
       "\n",
       "  DeviceProtection TechSupport StreamingTV StreamingMovies        Contract  \\\n",
       "0               No          No          No              No  Month-to-month   \n",
       "1              Yes          No          No              No        One year   \n",
       "2               No          No          No              No  Month-to-month   \n",
       "3              Yes         Yes          No              No        One year   \n",
       "4               No          No          No              No  Month-to-month   \n",
       "\n",
       "  PaperlessBilling              PaymentMethod  MonthlyCharges TotalCharges  \\\n",
       "0              Yes           Electronic check           29.85        29.85   \n",
       "1               No               Mailed check           56.95       1889.5   \n",
       "2              Yes               Mailed check           53.85       108.15   \n",
       "3               No  Bank transfer (automatic)           42.30      1840.75   \n",
       "4              Yes           Electronic check           70.70       151.65   \n",
       "\n",
       "  Churn  \n",
       "0    No  \n",
       "1    No  \n",
       "2   Yes  \n",
       "3    No  \n",
       "4   Yes  "
      ]
     },
     "execution_count": 64,
     "metadata": {},
     "output_type": "execute_result"
    }
   ],
   "source": [
    "df.head()"
   ]
  },
  {
   "attachments": {},
   "cell_type": "markdown",
   "id": "be268150",
   "metadata": {},
   "source": [
    "What's the average tenure of churned vs retained customers?"
   ]
  },
  {
   "cell_type": "code",
   "execution_count": 65,
   "id": "f1650aa0",
   "metadata": {},
   "outputs": [
    {
     "name": "stdout",
     "output_type": "stream",
     "text": [
      "\n",
      "Mean tenure of churned customers: 17.98\n",
      "\n",
      "Mean tenure of customers that didnt churn: 37.57\n"
     ]
    }
   ],
   "source": [
    "churned_tenure = df[df['Churn'] == 'Yes']['tenure'].mean()\n",
    "not_churned_tenure = df[df['Churn'] == 'No']['tenure'].mean()\n",
    "\n",
    "print(f\"\\nMean tenure of churned customers: {churned_tenure:.2f}\")\n",
    "print(f\"\\nMean tenure of customers that didnt churn: {not_churned_tenure:.2f}\")"
   ]
  },
  {
   "attachments": {},
   "cell_type": "markdown",
   "id": "fb530fb5",
   "metadata": {},
   "source": [
    "Is there a relationship between monthly charges and churn?"
   ]
  },
  {
   "cell_type": "code",
   "execution_count": 66,
   "id": "f9def0e8",
   "metadata": {},
   "outputs": [
    {
     "name": "stdout",
     "output_type": "stream",
     "text": [
      "\n",
      "Mean Monthly charge for churned customers: 74.44\n",
      "\n",
      "Mean Monthly charge for not churned customers: 61.27\n"
     ]
    }
   ],
   "source": [
    "churned_monthly_charge = df[df['Churn'] == 'Yes']['MonthlyCharges'].mean()\n",
    "not_churned_monthly_charge = df[df['Churn'] == 'No']['MonthlyCharges'].mean()\n",
    "\n",
    "print(f\"\\nMean Monthly charge for churned customers: {churned_monthly_charge:.2f}\")\n",
    "print(f\"\\nMean Monthly charge for not churned customers: {not_churned_monthly_charge:.2f}\")"
   ]
  },
  {
   "attachments": {},
   "cell_type": "markdown",
   "id": "1142d186",
   "metadata": {},
   "source": [
    "Which services are churned customers most likely to have?"
   ]
  },
  {
   "cell_type": "code",
   "execution_count": 67,
   "id": "4dde91ee",
   "metadata": {},
   "outputs": [
    {
     "name": "stdout",
     "output_type": "stream",
     "text": [
      "\n",
      "===== PhoneService =====\n",
      "\n",
      "Churned: PhoneService\n",
      "Yes    0.909042\n",
      "No     0.090958\n",
      "Name: proportion, dtype: float64 \n",
      "\n",
      "Not Churned: PhoneService\n",
      "Yes    0.901044\n",
      "No     0.098956\n",
      "Name: proportion, dtype: float64\n",
      "\n",
      "===== MultipleLines =====\n",
      "\n",
      "Churned: MultipleLines\n",
      "Yes                 0.454789\n",
      "No                  0.454254\n",
      "No phone service    0.090958\n",
      "Name: proportion, dtype: float64 \n",
      "\n",
      "Not Churned: MultipleLines\n",
      "No                  0.491109\n",
      "Yes                 0.409934\n",
      "No phone service    0.098956\n",
      "Name: proportion, dtype: float64\n",
      "\n",
      "===== InternetService =====\n",
      "\n",
      "Churned: InternetService\n",
      "Fiber optic    0.693954\n",
      "DSL            0.245586\n",
      "No             0.060460\n",
      "Name: proportion, dtype: float64 \n",
      "\n",
      "Not Churned: InternetService\n",
      "DSL            0.379204\n",
      "Fiber optic    0.347700\n",
      "No             0.273096\n",
      "Name: proportion, dtype: float64\n",
      "\n",
      "===== OnlineSecurity =====\n",
      "\n",
      "Churned: OnlineSecurity\n",
      "No                     0.781701\n",
      "Yes                    0.157838\n",
      "No internet service    0.060460\n",
      "Name: proportion, dtype: float64 \n",
      "\n",
      "Not Churned: OnlineSecurity\n",
      "No                     0.393699\n",
      "Yes                    0.333204\n",
      "No internet service    0.273096\n",
      "Name: proportion, dtype: float64\n",
      "\n",
      "===== OnlineBackup =====\n",
      "\n",
      "Churned: OnlineBackup\n",
      "No                     0.659711\n",
      "Yes                    0.279829\n",
      "No internet service    0.060460\n",
      "Name: proportion, dtype: float64 \n",
      "\n",
      "Not Churned: OnlineBackup\n",
      "Yes                    0.368380\n",
      "No                     0.358523\n",
      "No internet service    0.273096\n",
      "Name: proportion, dtype: float64\n",
      "\n",
      "===== DeviceProtection =====\n",
      "\n",
      "Churned: DeviceProtection\n",
      "No                     0.64794\n",
      "Yes                    0.29160\n",
      "No internet service    0.06046\n",
      "Name: proportion, dtype: float64 \n",
      "\n",
      "Not Churned: DeviceProtection\n",
      "No                     0.364128\n",
      "Yes                    0.362775\n",
      "No internet service    0.273096\n",
      "Name: proportion, dtype: float64\n",
      "\n",
      "===== TechSupport =====\n",
      "\n",
      "Churned: TechSupport\n",
      "No                     0.773676\n",
      "Yes                    0.165864\n",
      "No internet service    0.060460\n",
      "Name: proportion, dtype: float64 \n",
      "\n",
      "Not Churned: TechSupport\n",
      "No                     0.391767\n",
      "Yes                    0.335137\n",
      "No internet service    0.273096\n",
      "Name: proportion, dtype: float64\n",
      "\n",
      "===== StreamingTV =====\n",
      "\n",
      "Churned: StreamingTV\n",
      "No                     0.504013\n",
      "Yes                    0.435527\n",
      "No internet service    0.060460\n",
      "Name: proportion, dtype: float64 \n",
      "\n",
      "Not Churned: StreamingTV\n",
      "Yes                    0.365868\n",
      "No                     0.361036\n",
      "No internet service    0.273096\n",
      "Name: proportion, dtype: float64\n",
      "\n",
      "===== StreamingMovies =====\n",
      "\n",
      "Churned: StreamingMovies\n",
      "No                     0.501873\n",
      "Yes                    0.437667\n",
      "No internet service    0.060460\n",
      "Name: proportion, dtype: float64 \n",
      "\n",
      "Not Churned: StreamingMovies\n",
      "Yes                    0.369927\n",
      "No                     0.356977\n",
      "No internet service    0.273096\n",
      "Name: proportion, dtype: float64\n"
     ]
    }
   ],
   "source": [
    "services_cols = ['PhoneService', 'MultipleLines', 'InternetService', 'OnlineSecurity', 'OnlineBackup', 'DeviceProtection', 'TechSupport', 'StreamingTV', 'StreamingMovies']\n",
    "churned_df = df[df['Churn'] == 'Yes']\n",
    "not_churned_df = df[df['Churn'] == 'No']\n",
    "\n",
    "for cols in services_cols:\n",
    "    print(f\"\\n===== {cols} =====\")\n",
    "    print(f\"\\nChurned: {churned_df[cols].value_counts(normalize=True)} \\n\\nNot Churned: {not_churned_df[cols].value_counts(normalize=True)}\")"
   ]
  },
  {
   "attachments": {},
   "cell_type": "markdown",
   "id": "474ffb97",
   "metadata": {},
   "source": [
    "Which payment method are churned customers most likel to use"
   ]
  },
  {
   "cell_type": "code",
   "execution_count": 68,
   "id": "b707b3e1",
   "metadata": {},
   "outputs": [
    {
     "name": "stdout",
     "output_type": "stream",
     "text": [
      "\n",
      " ===== Churned Customers Payment methods =====\n",
      "PaymentMethod\n",
      "Electronic check             0.573034\n",
      "Mailed check                 0.164794\n",
      "Bank transfer (automatic)    0.138042\n",
      "Credit card (automatic)      0.124131\n",
      "Name: proportion, dtype: float64\n",
      "\n",
      " ===== Not Churned Customers Payment methods =====\n",
      "PaymentMethod\n",
      "Mailed check                 0.252029\n",
      "Electronic check             0.250097\n",
      "Credit card (automatic)      0.249324\n",
      "Bank transfer (automatic)    0.248550\n",
      "Name: proportion, dtype: float64\n"
     ]
    }
   ],
   "source": [
    "churn_payment_method = df[df['Churn'] == 'Yes']['PaymentMethod'].value_counts(normalize=True)\n",
    "not_churn_payment_method = df[df['Churn'] == 'No']['PaymentMethod'].value_counts(normalize=True)\n",
    "\n",
    "print(\"\\n ===== Churned Customers Payment methods =====\")\n",
    "print(churn_payment_method)\n",
    "\n",
    "print(\"\\n ===== Not Churned Customers Payment methods =====\")\n",
    "print(not_churn_payment_method)\n"
   ]
  },
  {
   "attachments": {},
   "cell_type": "markdown",
   "id": "3433eba6",
   "metadata": {},
   "source": [
    "## Deeper tenure analysis"
   ]
  },
  {
   "cell_type": "code",
   "execution_count": 69,
   "id": "f92b2f52",
   "metadata": {},
   "outputs": [
    {
     "name": "stderr",
     "output_type": "stream",
     "text": [
      "/var/folders/4c/4g9w277n1wb0ssy88bqbt6680000gn/T/ipykernel_72064/3409847904.py:14: FutureWarning: The default of observed=False is deprecated and will be changed to True in a future version of pandas. Pass observed=False to retain current behavior or observed=True to adopt the future default and silence this warning.\n",
      "  churn_by_tenure = df.groupby('tenure_bucket')['Churn'].apply(lambda x: (x == 'Yes').mean())\n"
     ]
    },
    {
     "data": {
      "image/png": "[encoded data removed]",
      "text/plain": [
       "<Figure size 1200x500 with 2 Axes>"
      ]
     },
     "metadata": {},
     "output_type": "display_data"
    }
   ],
   "source": [
    "plt.figure(figsize=(12,5))\n",
    "\n",
    "plt.subplot(1, 2, 1)\n",
    "df.boxplot(column='tenure', by='Churn', ax=plt.gca())\n",
    "plt.title('Tenure Distribution by Churn Status')\n",
    "plt.suptitle('')\n",
    "\n",
    "plt.subplot(1, 2, 2)\n",
    "# churn rate by tenure buckets\n",
    "df['tenure_bucket'] = pd.cut(df['tenure'], \n",
    "                             bins=[0,12,24,48,72],\n",
    "                             labels=['0-1yr', '1-2yr', '2-4yr', '4+yr'])\n",
    "# group the df by tenure bucket, only looking at the churn, and get mean for each group\n",
    "churn_by_tenure = df.groupby('tenure_bucket')['Churn'].apply(lambda x: (x == 'Yes').mean())\n",
    "churn_by_tenure.plot(kind='bar', color='coral')\n",
    "plt.title('Churn Rate by Tenure Bucket')\n",
    "plt.ylabel('Churn Rate')\n",
    "plt.xticks(rotation=45)\n",
    "plt.tight_layout()\n",
    "plt.show()\n",
    "\n",
    "\n"
   ]
  },
  {
   "cell_type": "code",
   "execution_count": 70,
   "id": "437dad17",
   "metadata": {},
   "outputs": [
    {
     "name": "stdout",
     "output_type": "stream",
     "text": [
      "Business Insight: Foccus retention programs on customers approaching 12-18 month mark\n"
     ]
    }
   ],
   "source": [
    "print(\"Business Insight: Foccus retention programs on customers approaching 12-18 month mark\")"
   ]
  },
  {
   "attachments": {},
   "cell_type": "markdown",
   "id": "a53ad331",
   "metadata": {},
   "source": [
    "## The \"Premium but Unprotected\" segment analysis"
   ]
  },
  {
   "cell_type": "code",
   "execution_count": 71,
   "id": "87486689",
   "metadata": {},
   "outputs": [
    {
     "name": "stdout",
     "output_type": "stream",
     "text": [
      "Churn rate for high risk profile: \n",
      "High risk customers: 63.6%\n",
      "other customers: 21.5%\n",
      "\n",
      "Size of high risk segment: 848 customers (12.0%)\n"
     ]
    }
   ],
   "source": [
    "# Create a flag for high risk customers\n",
    "df['high_risk_profile'] = (\n",
    "    (df['InternetService'] == 'Fiber optic') & \n",
    "    (df['OnlineSecurity'] == 'No') & \n",
    "    (df['OnlineBackup'] == 'No') & \n",
    "    (df['DeviceProtection'] == 'No') & \n",
    "    (df['TechSupport'] == 'No')\n",
    ")\n",
    "\n",
    "risk_churn = df.groupby('high_risk_profile')['Churn'].apply(lambda x: (x == 'Yes').mean())\n",
    "print(\"Churn rate for high risk profile: \")\n",
    "print(f\"High risk customers: {risk_churn[True]:.1%}\")\n",
    "print(f\"other customers: {risk_churn[False]:.1%}\")\n",
    "\n",
    "# How many customers are high risk of churning\n",
    "print(f\"\\nSize of high risk segment: {df['high_risk_profile'].sum()} customers ({df['high_risk_profile'].mean():.1%})\")"
   ]
  },
  {
   "attachments": {},
   "cell_type": "markdown",
   "id": "a90a5a20",
   "metadata": {},
   "source": [
    "## Payment Method segment analysis"
   ]
  },
  {
   "cell_type": "code",
   "execution_count": 72,
   "id": "5f8e9135",
   "metadata": {},
   "outputs": [
    {
     "data": {
      "image/png": "[encoded data removed]",
      "text/plain": [
       "<Figure size 1000x600 with 1 Axes>"
      ]
     },
     "metadata": {},
     "output_type": "display_data"
    }
   ],
   "source": [
    "comparison_df = pd.DataFrame({\n",
    "    'Churned': churn_payment_method,\n",
    "    'Nor Churned': not_churn_payment_method\n",
    "}).sort_index()\n",
    "\n",
    "comparison_df.plot(kind='bar', figsize=(10,6), color=['salmon', 'skyblue'])\n",
    "plt.title('Payment Method Distribution by Churn Status')\n",
    "plt.ylabel('Proportion')\n",
    "plt.xlabel('Payment Method')\n",
    "plt.xticks(rotation=45)\n",
    "plt.legend()\n",
    "plt.tight_layout()\n",
    "plt.show()"
   ]
  },
  {
   "attachments": {},
   "cell_type": "markdown",
   "id": "3ae50916",
   "metadata": {},
   "source": [
    "## Revenue impact analysis \n",
    "Calculate monthly revenue loss from churn"
   ]
  },
  {
   "cell_type": "code",
   "execution_count": 73,
   "id": "ce1ea394",
   "metadata": {},
   "outputs": [
    {
     "name": "stdout",
     "output_type": "stream",
     "text": [
      "Monthly revenue from churned customers: $139,130.85\n",
      "Revenue loss percentage: 30.5%\n",
      "Annualized revenue at risk: $1,669,570.20\n",
      "\n",
      "Top 100 highest revenue risk customers represent $10,875.90/month\n"
     ]
    }
   ],
   "source": [
    "churned_revenue = df[df['Churn'] == 'Yes']['MonthlyCharges'].sum()\n",
    "total_revenue = df['MonthlyCharges'].sum()\n",
    "revenue_loss_pct = churned_revenue / total_revenue\n",
    "\n",
    "print(f\"Monthly revenue from churned customers: ${churned_revenue:,.2f}\")\n",
    "print(f\"Revenue loss percentage: {revenue_loss_pct:.1%}\")\n",
    "print(f\"Annualized revenue at risk: ${churned_revenue * 12:,.2f}\")\n",
    "\n",
    "# Which customers should we prioritize saving?\n",
    "df['revenue_risk'] = df['MonthlyCharges'] * df['Churn'].map({'Yes': 1, 'No': 0})\n",
    "top_risk = df.nlargest(100, 'revenue_risk')[['customerID', 'MonthlyCharges', 'tenure', 'Contract']]\n",
    "print(f\"\\nTop 100 highest revenue risk customers represent ${top_risk['MonthlyCharges'].sum():,.2f}/month\")"
   ]
  },
  {
   "cell_type": "code",
   "execution_count": 74,
   "id": "78319695",
   "metadata": {},
   "outputs": [
    {
     "name": "stdout",
     "output_type": "stream",
     "text": [
      "customerID             object\n",
      "gender                 object\n",
      "SeniorCitizen           int64\n",
      "Partner                object\n",
      "Dependents             object\n",
      "tenure                  int64\n",
      "PhoneService           object\n",
      "MultipleLines          object\n",
      "InternetService        object\n",
      "OnlineSecurity         object\n",
      "OnlineBackup           object\n",
      "DeviceProtection       object\n",
      "TechSupport            object\n",
      "StreamingTV            object\n",
      "StreamingMovies        object\n",
      "Contract               object\n",
      "PaperlessBilling       object\n",
      "PaymentMethod          object\n",
      "MonthlyCharges        float64\n",
      "TotalCharges           object\n",
      "Churn                  object\n",
      "tenure_bucket        category\n",
      "high_risk_profile        bool\n",
      "revenue_risk          float64\n",
      "dtype: object\n"
     ]
    }
   ],
   "source": [
    "print(df.dtypes)\n"
   ]
  },
  {
   "attachments": {},
   "cell_type": "markdown",
   "id": "8b019cf9",
   "metadata": {},
   "source": [
    "## Test feature_engineering.py"
   ]
  },
  {
   "attachments": {},
   "cell_type": "markdown",
   "id": "a81a76b9",
   "metadata": {},
   "source": [
    "Make sure total charges are all ints so that errors dont pop up "
   ]
  },
  {
   "cell_type": "code",
   "execution_count": 75,
   "id": "c132897f",
   "metadata": {},
   "outputs": [
    {
     "name": "stdout",
     "output_type": "stream",
     "text": [
      "=== Investigating TotalCharges ===\n",
      "Data type: object\n",
      "Sample values:\n",
      "0      29.85\n",
      "1     1889.5\n",
      "2     108.15\n",
      "3    1840.75\n",
      "4     151.65\n",
      "5      820.5\n",
      "6     1949.4\n",
      "7      301.9\n",
      "8    3046.05\n",
      "9    3487.95\n",
      "Name: TotalCharges, dtype: object\n",
      "\n",
      "Rows with non-numeric TotalCharges: 11\n",
      "Sample of problematic rows:\n",
      "      customerID  tenure  MonthlyCharges TotalCharges\n",
      "488   4472-LVYGI       0           52.55             \n",
      "753   3115-CZMZD       0           20.25             \n",
      "936   5709-LVOEQ       0           80.85             \n",
      "1082  4367-NUYAO       0           25.75             \n",
      "1340  1371-DWPAZ       0           56.05             \n"
     ]
    }
   ],
   "source": [
    "# Cell: Investigate the TotalCharges column\n",
    "print(\"=== Investigating TotalCharges ===\")\n",
    "print(f\"Data type: {df['TotalCharges'].dtype}\")\n",
    "print(f\"Sample values:\\n{df['TotalCharges'].head(10)}\")\n",
    "\n",
    "# Check for non-numeric values\n",
    "non_numeric = df[pd.to_numeric(df['TotalCharges'], errors='coerce').isna()]\n",
    "print(f\"\\nRows with non-numeric TotalCharges: {len(non_numeric)}\")\n",
    "if len(non_numeric) > 0:\n",
    "    print(\"Sample of problematic rows:\")\n",
    "    print(non_numeric[['customerID', 'tenure', 'MonthlyCharges', 'TotalCharges']].head())"
   ]
  },
  {
   "cell_type": "code",
   "execution_count": 78,
   "id": "bb775f4e",
   "metadata": {},
   "outputs": [
    {
     "name": "stderr",
     "output_type": "stream",
     "text": [
      "WARNING:src.feature_engineering:Found 11 rows with invalid TotalCharges. Imputing...\n",
      "INFO:src.feature_engineering:Created 33 features\n"
     ]
    },
    {
     "name": "stdout",
     "output_type": "stream",
     "text": [
      "✓ Feature engineering successful!\n",
      "\n",
      "New features created:\n",
      "  - is_new_customer\n",
      "  - tenure_squared\n",
      "  - monthly_to_total_ratio\n",
      "  - avg_charges_per_tenure\n",
      "  - num_protection_services\n",
      "  - has_premium_unprotected\n",
      "  - contract_value_score\n",
      "  - is_electronic_payment\n",
      "  - revenue_per_service\n",
      "  - high_value_customer\n",
      "\n",
      "Data shape after feature engineering: (7043, 34)\n",
      "Any nulls remaining: 0\n"
     ]
    }
   ],
   "source": [
    "# Cell: Test the fixed feature engineering\n",
    "from src.feature_engineering import ChurnFeatureEngineer\n",
    "\n",
    "# Reload the module to get the updated code\n",
    "import importlib\n",
    "import src.feature_engineering\n",
    "importlib.reload(src.feature_engineering)\n",
    "from src.feature_engineering import ChurnFeatureEngineer\n",
    "\n",
    "fe = ChurnFeatureEngineer()\n",
    "df_features = fe.fit_transform(df)\n",
    "\n",
    "# Verify new features\n",
    "print(\"✓ Feature engineering successful!\")\n",
    "print(f\"\\nNew features created:\")\n",
    "new_cols = [col for col in df_features.columns if col not in df.columns]\n",
    "for col in new_cols:\n",
    "    print(f\"  - {col}\")\n",
    "\n",
    "# Check the data quality after transformation\n",
    "print(f\"\\nData shape after feature engineering: {df_features.shape}\")\n",
    "print(f\"Any nulls remaining: {df_features.isnull().sum().sum()}\")"
   ]
  },
  {
   "cell_type": "code",
   "execution_count": 79,
   "id": "54d95c49",
   "metadata": {},
   "outputs": [
    {
     "name": "stdout",
     "output_type": "stream",
     "text": [
      "=== Investigating Remaining Nulls ===\n",
      "Columns with nulls:\n",
      "Series([], dtype: int64)\n",
      "\n",
      "Rows with nulls: 0\n",
      "\n",
      "Sample of problematic rows:\n",
      "Empty DataFrame\n",
      "Columns: [customerID, tenure, MonthlyCharges, TotalCharges, tenure_bucket]\n",
      "Index: []\n"
     ]
    }
   ],
   "source": [
    "# Cell: Investigate remaining nulls\n",
    "print(\"=== Investigating Remaining Nulls ===\")\n",
    "\n",
    "# Which columns have nulls?\n",
    "null_counts = df_features.isnull().sum()\n",
    "null_cols = null_counts[null_counts > 0]\n",
    "print(\"Columns with nulls:\")\n",
    "print(null_cols)\n",
    "\n",
    "# Let's look at the specific rows with nulls\n",
    "null_rows = df_features[df_features.isnull().any(axis=1)]\n",
    "print(f\"\\nRows with nulls: {len(null_rows)}\")\n",
    "\n",
    "# Display key columns for these problematic rows\n",
    "display_cols = ['customerID', 'tenure', 'MonthlyCharges', 'TotalCharges', 'tenure_bucket']\n",
    "print(\"\\nSample of problematic rows:\")\n",
    "print(null_rows[display_cols])"
   ]
  },
  {
   "attachments": {},
   "cell_type": "markdown",
   "id": "9c65c66e",
   "metadata": {},
   "source": [
    "## Data Quality Report"
   ]
  },
  {
   "cell_type": "code",
   "execution_count": 80,
   "id": "c4b64176",
   "metadata": {},
   "outputs": [
    {
     "name": "stdout",
     "output_type": "stream",
     "text": [
      "=== DATA QUALITY REPORT ===\n",
      "\n",
      "Dataset shape: (7043, 34)\n",
      "Memory usage: 1.73 MB\n",
      "\n",
      "✓ No missing values\n",
      "\n",
      "Data types summary:\n",
      "object      17\n",
      "int64        9\n",
      "float64      6\n",
      "category     1\n",
      "bool         1\n",
      "Name: count, dtype: int64\n",
      "\n",
      "Numeric columns (15):\n",
      "  SeniorCitizen: min=0.00, max=1.00, mean=0.16\n",
      "  tenure: min=0.00, max=72.00, mean=32.37\n",
      "  MonthlyCharges: min=18.25, max=118.75, mean=64.76\n",
      "  TotalCharges: min=0.00, max=8684.80, mean=2279.73\n",
      "  revenue_risk: min=0.00, max=118.35, mean=19.75\n",
      "  is_new_customer: min=0.00, max=1.00, mean=0.31\n",
      "  tenure_squared: min=0.00, max=5184.00, mean=1650.97\n",
      "  monthly_to_total_ratio: min=0.01, max=80.85, mean=0.22\n",
      "  avg_charges_per_tenure: min=0.00, max=118.97, mean=58.99\n",
      "  num_protection_services: min=0.00, max=4.00, mean=1.27\n",
      "  has_premium_unprotected: min=0.00, max=1.00, mean=0.12\n",
      "  contract_value_score: min=1.00, max=3.00, mean=1.69\n",
      "  is_electronic_payment: min=0.00, max=1.00, mean=0.34\n",
      "  revenue_per_service: min=8.65, max=97.65, mean=33.59\n",
      "  high_value_customer: min=0.00, max=1.00, mean=0.25\n",
      "\n",
      "Categorical columns (18):\n",
      "  customerID: 7043 unique values\n",
      "  gender: 2 unique values\n",
      "  Partner: 2 unique values\n",
      "  Dependents: 2 unique values\n",
      "  PhoneService: 2 unique values\n",
      "  MultipleLines: 3 unique values\n",
      "  InternetService: 3 unique values\n",
      "  OnlineSecurity: 3 unique values\n",
      "  OnlineBackup: 3 unique values\n",
      "  DeviceProtection: 3 unique values\n",
      "  TechSupport: 3 unique values\n",
      "  StreamingTV: 3 unique values\n",
      "  StreamingMovies: 3 unique values\n",
      "  Contract: 3 unique values\n",
      "  PaperlessBilling: 2 unique values\n",
      "  PaymentMethod: 4 unique values\n",
      "  Churn: 2 unique values\n",
      "  tenure_bucket: 5 unique values\n",
      "\n",
      "Target variable (Churn) distribution:\n",
      "Churn\n",
      "No     5174\n",
      "Yes    1869\n",
      "Name: count, dtype: int64\n",
      "Churn rate: 26.54%\n"
     ]
    },
    {
     "data": {
      "text/plain": [
       "True"
      ]
     },
     "execution_count": 80,
     "metadata": {},
     "output_type": "execute_result"
    }
   ],
   "source": [
    "def generate_data_quality_report(df):\n",
    "    \"\"\"Generate a comprehensive data quality report\"\"\"\n",
    "    print(\"=== DATA QUALITY REPORT ===\\n\")\n",
    "    \n",
    "    # 1. Basic info\n",
    "    print(f\"Dataset shape: {df.shape}\")\n",
    "    print(f\"Memory usage: {df.memory_usage().sum() / 1024**2:.2f} MB\\n\")\n",
    "    \n",
    "    # 2. Missing values\n",
    "    missing = df.isnull().sum()\n",
    "    if missing.sum() > 0:\n",
    "        print(\"Missing values:\")\n",
    "        print(missing[missing > 0])\n",
    "        print()\n",
    "    else:\n",
    "        print(\"✓ No missing values\\n\")\n",
    "    \n",
    "    # 3. Data types\n",
    "    print(\"Data types summary:\")\n",
    "    print(df.dtypes.value_counts())\n",
    "    print()\n",
    "    \n",
    "    # 4. Numeric columns summary\n",
    "    numeric_cols = df.select_dtypes(include=[np.number]).columns\n",
    "    print(f\"Numeric columns ({len(numeric_cols)}):\")\n",
    "    for col in numeric_cols:\n",
    "        print(f\"  {col}: min={df[col].min():.2f}, max={df[col].max():.2f}, mean={df[col].mean():.2f}\")\n",
    "    \n",
    "    # 5. Categorical columns summary\n",
    "    cat_cols = df.select_dtypes(include=['object', 'category']).columns\n",
    "    print(f\"\\nCategorical columns ({len(cat_cols)}):\")\n",
    "    for col in cat_cols:\n",
    "        n_unique = df[col].nunique()\n",
    "        print(f\"  {col}: {n_unique} unique values\")\n",
    "    \n",
    "    # 6. Target variable\n",
    "    if 'Churn' in df.columns:\n",
    "        print(f\"\\nTarget variable (Churn) distribution:\")\n",
    "        print(df['Churn'].value_counts())\n",
    "        print(f\"Churn rate: {(df['Churn'] == 'Yes').mean():.2%}\")\n",
    "    \n",
    "    return True\n",
    "\n",
    "# Run the report\n",
    "generate_data_quality_report(df_features)"
   ]
  }
 ],
 "metadata": {
  "kernelspec": {
   "display_name": "Python 3 (ipykernel)",
   "language": "python",
   "name": "python3"
  },
  "language_info": {
   "codemirror_mode": {
    "name": "ipython",
    "version": 3
   },
   "file_extension": ".py",
   "mimetype": "text/x-python",
   "name": "python",
   "nbconvert_exporter": "python",
   "pygments_lexer": "ipython3",
   "version": "3.11.9"
  }
 },
 "nbformat": 4,
 "nbformat_minor": 5
}
