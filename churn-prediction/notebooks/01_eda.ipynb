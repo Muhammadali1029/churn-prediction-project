{
 "cells": [
  {
   "cell_type": "markdown",
   "id": "924f713e",
   "metadata": {},
   "source": [
    "# Customer Churn EDA\n",
    "**Author**: Muhammad Ali Syed  \n",
    "**Date**: 02/08/2025\n",
    "**Purpose**: Initial data exploration for churn prediction model\n",
    "\n",
    "## Business Context\n",
    "Marketing needs to identify customers likely to churn within 30 days for retention campaigns.\n"
   ]
  },
  {
   "cell_type": "code",
   "execution_count": 23,
   "id": "cee2ecc1",
   "metadata": {},
   "outputs": [],
   "source": [
    "# Industry practice: Consistent imports at the top\n",
    "import sys\n",
    "sys.path.append('..')\n",
    "\n",
    "import pandas as pd\n",
    "import numpy as np\n",
    "import matplotlib.pyplot as plt\n",
    "import seaborn as sns\n",
    "from pathlib import Path\n",
    "\n",
    "# Our project modules\n",
    "from src.config import RAW_DATA_PATH, RANDOM_SEED\n",
    "\n",
    "# Configuration\n",
    "pd.set_option('display.max_columns', None)\n",
    "sns.set_style(\"whitegrid\")\n",
    "plt.rcParams['figure.figsize'] = (12, 6)\n",
    "\n",
    "# Set random seed for reproducibility\n",
    "np.random.seed(RANDOM_SEED)\n"
   ]
  },
  {
   "cell_type": "markdown",
   "id": "f05dda5a",
   "metadata": {},
   "source": [
    "## 1. Data Loading and Initial Inspection"
   ]
  },
  {
   "cell_type": "code",
   "execution_count": 24,
   "id": "0fe7ae7d",
   "metadata": {},
   "outputs": [
    {
     "name": "stdout",
     "output_type": "stream",
     "text": [
      "✓ Data loaded successfully: 7,043 rows, 21 columns\n"
     ]
    }
   ],
   "source": [
    "# Load data with error handling\n",
    "data_path = RAW_DATA_PATH / \"WA_Fn-UseC_-Telco-Customer-Churn.csv\"\n",
    "\n",
    "try:\n",
    "    df = pd.read_csv(data_path)\n",
    "    print(f\"✓ Data loaded successfully: {df.shape[0]:,} rows, {df.shape[1]} columns\")\n",
    "except FileNotFoundError:\n",
    "    print(\"✗ Data file not found. Please run: python src/data_downloader.py\")\n",
    "    raise\n"
   ]
  },
  {
   "attachments": {},
   "cell_type": "markdown",
   "id": "a051bddb",
   "metadata": {},
   "source": [
    "## Data Overview"
   ]
  },
  {
   "cell_type": "code",
   "execution_count": 25,
   "id": "825caea2",
   "metadata": {},
   "outputs": [
    {
     "name": "stdout",
     "output_type": "stream",
     "text": [
      "=== Data Overview ===\n",
      "Shape: (7043, 21)\n",
      "\n",
      "Column Types:\n",
      "object     18\n",
      "int64       2\n",
      "float64     1\n",
      "Name: count, dtype: int64\n",
      "\n",
      "Target:\n",
      "Churn\n",
      "No     5174\n",
      "Yes    1869\n",
      "Name: count, dtype: int64\n",
      "\n",
      "Target Distribution:\n",
      "Churn\n",
      "No     0.73463\n",
      "Yes    0.26537\n",
      "Name: proportion, dtype: float64\n"
     ]
    }
   ],
   "source": [
    "print(\"=== Data Overview ===\")\n",
    "print(f\"Shape: {df.shape}\")\n",
    "print(f\"\\nColumn Types:\\n{df.dtypes.value_counts()}\")\n",
    "print(f\"\\nTarget:\\n{df['Churn'].value_counts()}\")\n",
    "print(f\"\\nTarget Distribution:\\n{df['Churn'].value_counts(normalize=True)}\")"
   ]
  },
  {
   "attachments": {},
   "cell_type": "markdown",
   "id": "8d766c91",
   "metadata": {},
   "source": [
    "## Missing Values Analysis"
   ]
  },
  {
   "cell_type": "code",
   "execution_count": 26,
   "id": "6c9973f0",
   "metadata": {},
   "outputs": [
    {
     "name": "stdout",
     "output_type": "stream",
     "text": [
      "\n",
      "No missing values\n"
     ]
    }
   ],
   "source": [
    "missing = df.isnull().sum()\n",
    "if missing.sum() > 0:\n",
    "    print(\"\\nColumns with missing values: \")\n",
    "    print(missing[missing > 0])\n",
    "print(\"\\nNo missing values\")"
   ]
  },
  {
   "attachments": {},
   "cell_type": "markdown",
   "id": "4549f991",
   "metadata": {},
   "source": [
    "## Business-Relevant Questions"
   ]
  },
  {
   "cell_type": "code",
   "execution_count": 27,
   "id": "6165a514",
   "metadata": {},
   "outputs": [
    {
     "data": {
      "text/html": [
       "<div>\n",
       "<style scoped>\n",
       "    .dataframe tbody tr th:only-of-type {\n",
       "        vertical-align: middle;\n",
       "    }\n",
       "\n",
       "    .dataframe tbody tr th {\n",
       "        vertical-align: top;\n",
       "    }\n",
       "\n",
       "    .dataframe thead th {\n",
       "        text-align: right;\n",
       "    }\n",
       "</style>\n",
       "<table border=\"1\" class=\"dataframe\">\n",
       "  <thead>\n",
       "    <tr style=\"text-align: right;\">\n",
       "      <th></th>\n",
       "      <th>customerID</th>\n",
       "      <th>gender</th>\n",
       "      <th>SeniorCitizen</th>\n",
       "      <th>Partner</th>\n",
       "      <th>Dependents</th>\n",
       "      <th>tenure</th>\n",
       "      <th>PhoneService</th>\n",
       "      <th>MultipleLines</th>\n",
       "      <th>InternetService</th>\n",
       "      <th>OnlineSecurity</th>\n",
       "      <th>OnlineBackup</th>\n",
       "      <th>DeviceProtection</th>\n",
       "      <th>TechSupport</th>\n",
       "      <th>StreamingTV</th>\n",
       "      <th>StreamingMovies</th>\n",
       "      <th>Contract</th>\n",
       "      <th>PaperlessBilling</th>\n",
       "      <th>PaymentMethod</th>\n",
       "      <th>MonthlyCharges</th>\n",
       "      <th>TotalCharges</th>\n",
       "      <th>Churn</th>\n",
       "    </tr>\n",
       "  </thead>\n",
       "  <tbody>\n",
       "    <tr>\n",
       "      <th>0</th>\n",
       "      <td>7590-VHVEG</td>\n",
       "      <td>Female</td>\n",
       "      <td>0</td>\n",
       "      <td>Yes</td>\n",
       "      <td>No</td>\n",
       "      <td>1</td>\n",
       "      <td>No</td>\n",
       "      <td>No phone service</td>\n",
       "      <td>DSL</td>\n",
       "      <td>No</td>\n",
       "      <td>Yes</td>\n",
       "      <td>No</td>\n",
       "      <td>No</td>\n",
       "      <td>No</td>\n",
       "      <td>No</td>\n",
       "      <td>Month-to-month</td>\n",
       "      <td>Yes</td>\n",
       "      <td>Electronic check</td>\n",
       "      <td>29.85</td>\n",
       "      <td>29.85</td>\n",
       "      <td>No</td>\n",
       "    </tr>\n",
       "    <tr>\n",
       "      <th>1</th>\n",
       "      <td>5575-GNVDE</td>\n",
       "      <td>Male</td>\n",
       "      <td>0</td>\n",
       "      <td>No</td>\n",
       "      <td>No</td>\n",
       "      <td>34</td>\n",
       "      <td>Yes</td>\n",
       "      <td>No</td>\n",
       "      <td>DSL</td>\n",
       "      <td>Yes</td>\n",
       "      <td>No</td>\n",
       "      <td>Yes</td>\n",
       "      <td>No</td>\n",
       "      <td>No</td>\n",
       "      <td>No</td>\n",
       "      <td>One year</td>\n",
       "      <td>No</td>\n",
       "      <td>Mailed check</td>\n",
       "      <td>56.95</td>\n",
       "      <td>1889.5</td>\n",
       "      <td>No</td>\n",
       "    </tr>\n",
       "    <tr>\n",
       "      <th>2</th>\n",
       "      <td>3668-QPYBK</td>\n",
       "      <td>Male</td>\n",
       "      <td>0</td>\n",
       "      <td>No</td>\n",
       "      <td>No</td>\n",
       "      <td>2</td>\n",
       "      <td>Yes</td>\n",
       "      <td>No</td>\n",
       "      <td>DSL</td>\n",
       "      <td>Yes</td>\n",
       "      <td>Yes</td>\n",
       "      <td>No</td>\n",
       "      <td>No</td>\n",
       "      <td>No</td>\n",
       "      <td>No</td>\n",
       "      <td>Month-to-month</td>\n",
       "      <td>Yes</td>\n",
       "      <td>Mailed check</td>\n",
       "      <td>53.85</td>\n",
       "      <td>108.15</td>\n",
       "      <td>Yes</td>\n",
       "    </tr>\n",
       "    <tr>\n",
       "      <th>3</th>\n",
       "      <td>7795-CFOCW</td>\n",
       "      <td>Male</td>\n",
       "      <td>0</td>\n",
       "      <td>No</td>\n",
       "      <td>No</td>\n",
       "      <td>45</td>\n",
       "      <td>No</td>\n",
       "      <td>No phone service</td>\n",
       "      <td>DSL</td>\n",
       "      <td>Yes</td>\n",
       "      <td>No</td>\n",
       "      <td>Yes</td>\n",
       "      <td>Yes</td>\n",
       "      <td>No</td>\n",
       "      <td>No</td>\n",
       "      <td>One year</td>\n",
       "      <td>No</td>\n",
       "      <td>Bank transfer (automatic)</td>\n",
       "      <td>42.30</td>\n",
       "      <td>1840.75</td>\n",
       "      <td>No</td>\n",
       "    </tr>\n",
       "    <tr>\n",
       "      <th>4</th>\n",
       "      <td>9237-HQITU</td>\n",
       "      <td>Female</td>\n",
       "      <td>0</td>\n",
       "      <td>No</td>\n",
       "      <td>No</td>\n",
       "      <td>2</td>\n",
       "      <td>Yes</td>\n",
       "      <td>No</td>\n",
       "      <td>Fiber optic</td>\n",
       "      <td>No</td>\n",
       "      <td>No</td>\n",
       "      <td>No</td>\n",
       "      <td>No</td>\n",
       "      <td>No</td>\n",
       "      <td>No</td>\n",
       "      <td>Month-to-month</td>\n",
       "      <td>Yes</td>\n",
       "      <td>Electronic check</td>\n",
       "      <td>70.70</td>\n",
       "      <td>151.65</td>\n",
       "      <td>Yes</td>\n",
       "    </tr>\n",
       "  </tbody>\n",
       "</table>\n",
       "</div>"
      ],
      "text/plain": [
       "   customerID  gender  SeniorCitizen Partner Dependents  tenure PhoneService  \\\n",
       "0  7590-VHVEG  Female              0     Yes         No       1           No   \n",
       "1  5575-GNVDE    Male              0      No         No      34          Yes   \n",
       "2  3668-QPYBK    Male              0      No         No       2          Yes   \n",
       "3  7795-CFOCW    Male              0      No         No      45           No   \n",
       "4  9237-HQITU  Female              0      No         No       2          Yes   \n",
       "\n",
       "      MultipleLines InternetService OnlineSecurity OnlineBackup  \\\n",
       "0  No phone service             DSL             No          Yes   \n",
       "1                No             DSL            Yes           No   \n",
       "2                No             DSL            Yes          Yes   \n",
       "3  No phone service             DSL            Yes           No   \n",
       "4                No     Fiber optic             No           No   \n",
       "\n",
       "  DeviceProtection TechSupport StreamingTV StreamingMovies        Contract  \\\n",
       "0               No          No          No              No  Month-to-month   \n",
       "1              Yes          No          No              No        One year   \n",
       "2               No          No          No              No  Month-to-month   \n",
       "3              Yes         Yes          No              No        One year   \n",
       "4               No          No          No              No  Month-to-month   \n",
       "\n",
       "  PaperlessBilling              PaymentMethod  MonthlyCharges TotalCharges  \\\n",
       "0              Yes           Electronic check           29.85        29.85   \n",
       "1               No               Mailed check           56.95       1889.5   \n",
       "2              Yes               Mailed check           53.85       108.15   \n",
       "3               No  Bank transfer (automatic)           42.30      1840.75   \n",
       "4              Yes           Electronic check           70.70       151.65   \n",
       "\n",
       "  Churn  \n",
       "0    No  \n",
       "1    No  \n",
       "2   Yes  \n",
       "3    No  \n",
       "4   Yes  "
      ]
     },
     "execution_count": 27,
     "metadata": {},
     "output_type": "execute_result"
    }
   ],
   "source": [
    "df.head()"
   ]
  },
  {
   "attachments": {},
   "cell_type": "markdown",
   "id": "be268150",
   "metadata": {},
   "source": [
    "What's the average tenure of churned vs retained customers?"
   ]
  },
  {
   "cell_type": "code",
   "execution_count": 28,
   "id": "f1650aa0",
   "metadata": {},
   "outputs": [
    {
     "name": "stdout",
     "output_type": "stream",
     "text": [
      "\n",
      "Mean tenure of churned customers: 17.98\n",
      "\n",
      "Mean tenure of customers that didnt churn: 37.57\n"
     ]
    }
   ],
   "source": [
    "churned_tenure = df[df['Churn'] == 'Yes']['tenure'].mean()\n",
    "not_churned_tenure = df[df['Churn'] == 'No']['tenure'].mean()\n",
    "\n",
    "print(f\"\\nMean tenure of churned customers: {churned_tenure:.2f}\")\n",
    "print(f\"\\nMean tenure of customers that didnt churn: {not_churned_tenure:.2f}\")"
   ]
  },
  {
   "attachments": {},
   "cell_type": "markdown",
   "id": "fb530fb5",
   "metadata": {},
   "source": [
    "Is there a relationship between monthly charges and churn?"
   ]
  },
  {
   "cell_type": "code",
   "execution_count": 29,
   "id": "f9def0e8",
   "metadata": {},
   "outputs": [
    {
     "name": "stdout",
     "output_type": "stream",
     "text": [
      "\n",
      "Mean Monthly charge for churned customers: 74.44\n",
      "\n",
      "Mean Monthly charge for not churned customers: 61.27\n"
     ]
    }
   ],
   "source": [
    "churned_monthly_charge = df[df['Churn'] == 'Yes']['MonthlyCharges'].mean()\n",
    "not_churned_monthly_charge = df[df['Churn'] == 'No']['MonthlyCharges'].mean()\n",
    "\n",
    "print(f\"\\nMean Monthly charge for churned customers: {churned_monthly_charge:.2f}\")\n",
    "print(f\"\\nMean Monthly charge for not churned customers: {not_churned_monthly_charge:.2f}\")"
   ]
  },
  {
   "attachments": {},
   "cell_type": "markdown",
   "id": "1142d186",
   "metadata": {},
   "source": [
    "Which services are churned customers most likely to have?"
   ]
  },
  {
   "cell_type": "code",
   "execution_count": 34,
   "id": "4dde91ee",
   "metadata": {},
   "outputs": [
    {
     "name": "stdout",
     "output_type": "stream",
     "text": [
      "\n",
      "===== PhoneService =====\n",
      "PhoneService\n",
      "Yes    0.909042\n",
      "No     0.090958\n",
      "Name: proportion, dtype: float64\n",
      "\n",
      "===== MultipleLines =====\n",
      "MultipleLines\n",
      "Yes                 0.454789\n",
      "No                  0.454254\n",
      "No phone service    0.090958\n",
      "Name: proportion, dtype: float64\n",
      "\n",
      "===== InternetService =====\n",
      "InternetService\n",
      "Fiber optic    0.693954\n",
      "DSL            0.245586\n",
      "No             0.060460\n",
      "Name: proportion, dtype: float64\n",
      "\n",
      "===== OnlineSecurity =====\n",
      "OnlineSecurity\n",
      "No                     0.781701\n",
      "Yes                    0.157838\n",
      "No internet service    0.060460\n",
      "Name: proportion, dtype: float64\n",
      "\n",
      "===== OnlineBackup =====\n",
      "OnlineBackup\n",
      "No                     0.659711\n",
      "Yes                    0.279829\n",
      "No internet service    0.060460\n",
      "Name: proportion, dtype: float64\n",
      "\n",
      "===== DeviceProtection =====\n",
      "DeviceProtection\n",
      "No                     0.64794\n",
      "Yes                    0.29160\n",
      "No internet service    0.06046\n",
      "Name: proportion, dtype: float64\n",
      "\n",
      "===== TechSupport =====\n",
      "TechSupport\n",
      "No                     0.773676\n",
      "Yes                    0.165864\n",
      "No internet service    0.060460\n",
      "Name: proportion, dtype: float64\n",
      "\n",
      "===== StreamingTV =====\n",
      "StreamingTV\n",
      "No                     0.504013\n",
      "Yes                    0.435527\n",
      "No internet service    0.060460\n",
      "Name: proportion, dtype: float64\n",
      "\n",
      "===== StreamingMovies =====\n",
      "StreamingMovies\n",
      "No                     0.501873\n",
      "Yes                    0.437667\n",
      "No internet service    0.060460\n",
      "Name: proportion, dtype: float64\n"
     ]
    }
   ],
   "source": [
    "services_cols = ['PhoneService', 'MultipleLines', 'InternetService', 'OnlineSecurity', 'OnlineBackup', 'DeviceProtection', 'TechSupport', 'StreamingTV', 'StreamingMovies']\n",
    "churned_df = df[df['Churn'] == 'Yes']\n",
    "\n",
    "for cols in services_cols:\n",
    "    print(f\"\\n===== {cols} =====\")\n",
    "    print(churned_df[cols].value_counts(normalize=True))"
   ]
  }
 ],
 "metadata": {
  "kernelspec": {
   "display_name": "Python 3 (ipykernel)",
   "language": "python",
   "name": "python3"
  },
  "language_info": {
   "codemirror_mode": {
    "name": "ipython",
    "version": 3
   },
   "file_extension": ".py",
   "mimetype": "text/x-python",
   "name": "python",
   "nbconvert_exporter": "python",
   "pygments_lexer": "ipython3",
   "version": "3.11.9"
  }
 },
 "nbformat": 4,
 "nbformat_minor": 5
}
