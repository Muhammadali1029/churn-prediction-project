{
 "cells": [
  {
   "attachments": {},
   "cell_type": "markdown",
   "metadata": {},
   "source": [
    "## Setup"
   ]
  },
  {
   "cell_type": "code",
   "execution_count": 5,
   "metadata": {},
   "outputs": [],
   "source": [
    "import sys\n",
    "sys.path.append('..')\n",
    "\n",
    "import pandas as pd\n",
    "import numpy as np\n",
    "import matplotlib.pyplot as plt\n",
    "import seaborn as sns\n",
    "from sklearn.metrics import roc_curve, auc, confusion_matrix\n",
    "import mlflow\n",
    "\n",
    "from src.config import RAW_DATA_PATH, RANDOM_SEED\n",
    "from src.feature_engineering import ChurnFeatureEngineer\n",
    "from src.train import ChurnModelTrainer"
   ]
  },
  {
   "attachments": {},
   "cell_type": "markdown",
   "metadata": {},
   "source": [
    "## Quick model comparison"
   ]
  },
  {
   "cell_type": "code",
   "execution_count": 6,
   "metadata": {},
   "outputs": [
    {
     "name": "stderr",
     "output_type": "stream",
     "text": [
      "INFO:src.train:Preparing data for training...\n",
      "WARNING:src.feature_engineering:Found 11 rows with invalid TotalCharges. Imputing...\n",
      "INFO:src.feature_engineering:Created 31 features\n",
      "INFO:src.train:Train shape: (4225, 30), Val shape: (1409, 30), Test shape: (1409, 30)\n",
      "INFO:src.train:Class distribution - Train: 26.53%, Val: 26.54%, Test: 26.54%\n",
      "INFO:src.train:Training baseline model...\n",
      "2025/08/05 17:38:23 WARNING mlflow.models.model: `artifact_path` is deprecated. Please use `name` instead.\n",
      "/opt/anaconda3/envs/ml-dev/lib/python3.9/site-packages/mlflow/types/utils.py:452: UserWarning: Hint: Inferred schema contains integer column(s). Integer columns in Python cannot represent missing values. If your input data contains missing values at inference time, it will be encoded as floats and will cause a schema enforcement error. The best way to avoid this problem is to infer the model schema based on a realistic data sample (training dataset) that includes missing values. Alternatively, you can declare integer columns as doubles (float64) whenever these columns may have missing values. See `Handling Integers With Missing Values <https://www.mlflow.org/docs/latest/models.html#handling-integers-with-missing-values>`_ for more details.\n",
      "  warnings.warn(\n",
      "/opt/anaconda3/envs/ml-dev/lib/python3.9/site-packages/sklearn/base.py:486: UserWarning: X has feature names, but LogisticRegression was fitted without feature names\n",
      "  warnings.warn(\n",
      "/opt/anaconda3/envs/ml-dev/lib/python3.9/site-packages/mlflow/types/utils.py:452: UserWarning: Hint: Inferred schema contains integer column(s). Integer columns in Python cannot represent missing values. If your input data contains missing values at inference time, it will be encoded as floats and will cause a schema enforcement error. The best way to avoid this problem is to infer the model schema based on a realistic data sample (training dataset) that includes missing values. Alternatively, you can declare integer columns as doubles (float64) whenever these columns may have missing values. See `Handling Integers With Missing Values <https://www.mlflow.org/docs/latest/models.html#handling-integers-with-missing-values>`_ for more details.\n",
      "  warnings.warn(\n",
      "/opt/anaconda3/envs/ml-dev/lib/python3.9/site-packages/sklearn/base.py:486: UserWarning: X has feature names, but LogisticRegression was fitted without feature names\n",
      "  warnings.warn(\n",
      "INFO:src.train:Baseline AUC: 0.8399\n",
      "INFO:src.train:Training XGBoost model...\n",
      "2025/08/05 17:38:26 WARNING mlflow.models.model: `artifact_path` is deprecated. Please use `name` instead.\n",
      "/opt/anaconda3/envs/ml-dev/lib/python3.9/site-packages/mlflow/types/utils.py:452: UserWarning: Hint: Inferred schema contains integer column(s). Integer columns in Python cannot represent missing values. If your input data contains missing values at inference time, it will be encoded as floats and will cause a schema enforcement error. The best way to avoid this problem is to infer the model schema based on a realistic data sample (training dataset) that includes missing values. Alternatively, you can declare integer columns as doubles (float64) whenever these columns may have missing values. See `Handling Integers With Missing Values <https://www.mlflow.org/docs/latest/models.html#handling-integers-with-missing-values>`_ for more details.\n",
      "  warnings.warn(\n",
      "/opt/anaconda3/envs/ml-dev/lib/python3.9/site-packages/mlflow/types/utils.py:452: UserWarning: Hint: Inferred schema contains integer column(s). Integer columns in Python cannot represent missing values. If your input data contains missing values at inference time, it will be encoded as floats and will cause a schema enforcement error. The best way to avoid this problem is to infer the model schema based on a realistic data sample (training dataset) that includes missing values. Alternatively, you can declare integer columns as doubles (float64) whenever these columns may have missing values. See `Handling Integers With Missing Values <https://www.mlflow.org/docs/latest/models.html#handling-integers-with-missing-values>`_ for more details.\n",
      "  warnings.warn(\n",
      "/opt/anaconda3/envs/ml-dev/lib/python3.9/site-packages/xgboost/core.py:158: UserWarning: [17:38:26] WARNING: /Users/runner/miniforge3/conda-bld/xgboost-split_1730232611148/work/src/c_api/c_api.cc:1374: Saving model in the UBJSON format as default.  You can use file extension: `json`, `ubj` or `deprecated` to choose between formats.\n",
      "  warnings.warn(smsg, UserWarning)\n",
      "INFO:src.train:XGBoost AUC: 0.8321\n"
     ]
    },
    {
     "name": "stdout",
     "output_type": "stream",
     "text": [
      "Baseline AUC: 0.8399\n",
      "XGBoost AUC: 0.8321\n",
      "Improvement: -0.9%\n"
     ]
    }
   ],
   "source": [
    "# Load and prepare data\n",
    "df = pd.read_csv(RAW_DATA_PATH / \"WA_Fn-UseC_-Telco-Customer-Churn.csv\")\n",
    "trainer = ChurnModelTrainer()\n",
    "X_train, X_val, X_test, y_train, y_val, y_test, encoder = trainer.prepare_data(df)\n",
    "\n",
    "# Train baseline\n",
    "baseline_model, scaler, baseline_auc = trainer.train_baseline(X_train, X_val, y_train, y_val)\n",
    "\n",
    "# Train XGBoost\n",
    "xgb_model, xgb_auc = trainer.train_xgboost(X_train, X_val, y_train, y_val)\n",
    "\n",
    "print(f\"Baseline AUC: {baseline_auc:.4f}\")\n",
    "print(f\"XGBoost AUC: {xgb_auc:.4f}\")\n",
    "print(f\"Improvement: {((xgb_auc - baseline_auc) / baseline_auc * 100):.1f}%\")\n"
   ]
  }
 ],
 "metadata": {
  "kernelspec": {
   "display_name": "Python 3",
   "language": "python",
   "name": "python3"
  },
  "language_info": {
   "codemirror_mode": {
    "name": "ipython",
    "version": 3
   },
   "file_extension": ".py",
   "mimetype": "text/x-python",
   "name": "python",
   "nbconvert_exporter": "python",
   "pygments_lexer": "ipython3",
   "version": "3.9.7"
  },
  "orig_nbformat": 4
 },
 "nbformat": 4,
 "nbformat_minor": 2
}
